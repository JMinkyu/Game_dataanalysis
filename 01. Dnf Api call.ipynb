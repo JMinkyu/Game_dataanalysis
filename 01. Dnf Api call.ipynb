{
 "cells": [
  {
   "cell_type": "code",
   "execution_count": 19,
   "metadata": {},
   "outputs": [],
   "source": [
    "import urllib.request\n",
    "import urllib.parse\n",
    "import pandas as pd\n",
    "import numpy as np\n",
    "import matplotlib.pyplot as plt\n",
    "import requests\n",
    "\n",
    "api_key = \"MXuDGTdMFajqFoxWmhRaZzPYYuiMDr51\"\n"
   ]
  },
  {
   "cell_type": "code",
   "execution_count": 20,
   "metadata": {},
   "outputs": [
    {
     "data": {
      "text/plain": [
       "'MXuDGTdMFajqFoxWmhRaZzPYYuiMDr51'"
      ]
     },
     "execution_count": 20,
     "metadata": {},
     "output_type": "execute_result"
    }
   ],
   "source": [
    "api_key"
   ]
  },
  {
   "cell_type": "code",
   "execution_count": 62,
   "metadata": {},
   "outputs": [
    {
     "data": {
      "text/plain": [
       "Index(['serverId', 'characterId', 'characterName', 'level', 'jobId',\n",
       "       'jobGrowId', 'jobName', 'jobGrowName', 'fame'],\n",
       "      dtype='object')"
      ]
     },
     "execution_count": 62,
     "metadata": {},
     "output_type": "execute_result"
    }
   ],
   "source": [
    "def call_chId(svname, urname) :\n",
    "    # urname url 형식으로 변환 필요\n",
    "    urname_url = urllib.parse.quote(urname)\n",
    "    requestData = requests.get(f'https://api.neople.co.kr/df/servers/{svname}/characters?characterName={urname_url}&apikey={api_key}')\n",
    "    if requestData.status_code == 200 :\n",
    "        jsonData = requestData.json()\n",
    "        api_result = pd.DataFrame(jsonData['rows'])\n",
    "        return api_result\n",
    "    else :\n",
    "        print(f\"오류코드 : {requestData.status_code}\")\n",
    "\n",
    "svname = \"prey\"\n",
    "urname = \"사레네\"\n",
    "\n",
    "df = call_chId(svname, urname)\n",
    "df.columns\n"
   ]
  },
  {
   "cell_type": "code",
   "execution_count": 61,
   "metadata": {},
   "outputs": [
    {
     "data": {
      "text/html": [
       "<div>\n",
       "<style scoped>\n",
       "    .dataframe tbody tr th:only-of-type {\n",
       "        vertical-align: middle;\n",
       "    }\n",
       "\n",
       "    .dataframe tbody tr th {\n",
       "        vertical-align: top;\n",
       "    }\n",
       "\n",
       "    .dataframe thead th {\n",
       "        text-align: right;\n",
       "    }\n",
       "</style>\n",
       "<table border=\"1\" class=\"dataframe\">\n",
       "  <thead>\n",
       "    <tr style=\"text-align: right;\">\n",
       "      <th></th>\n",
       "      <th>serverId</th>\n",
       "      <th>characterId</th>\n",
       "      <th>characterName</th>\n",
       "      <th>level</th>\n",
       "      <th>jobId</th>\n",
       "      <th>jobGrowId</th>\n",
       "      <th>jobName</th>\n",
       "      <th>jobGrowName</th>\n",
       "      <th>fame</th>\n",
       "    </tr>\n",
       "  </thead>\n",
       "  <tbody>\n",
       "    <tr>\n",
       "      <th>0</th>\n",
       "      <td>cain</td>\n",
       "      <td>601db920dfac63cf6ba1e5aa5b606b38</td>\n",
       "      <td>느카리</td>\n",
       "      <td>100</td>\n",
       "      <td>3909d0b188e9c95311399f776e331da5</td>\n",
       "      <td>c9b492038ee3ca8d27d7004cf58d59f3</td>\n",
       "      <td>마법사(여)</td>\n",
       "      <td>眞 마도학자</td>\n",
       "      <td>3091</td>\n",
       "    </tr>\n",
       "  </tbody>\n",
       "</table>\n",
       "</div>"
      ],
      "text/plain": [
       "  serverId                       characterId characterName  level  \\\n",
       "0     cain  601db920dfac63cf6ba1e5aa5b606b38           느카리    100   \n",
       "\n",
       "                              jobId                         jobGrowId jobName  \\\n",
       "0  3909d0b188e9c95311399f776e331da5  c9b492038ee3ca8d27d7004cf58d59f3  마법사(여)   \n",
       "\n",
       "  jobGrowName  fame  \n",
       "0      眞 마도학자  3091  "
      ]
     },
     "execution_count": 61,
     "metadata": {},
     "output_type": "execute_result"
    }
   ],
   "source": [
    "df"
   ]
  },
  {
   "cell_type": "code",
   "execution_count": 55,
   "metadata": {},
   "outputs": [
    {
     "data": {
      "text/html": [
       "<div>\n",
       "<style scoped>\n",
       "    .dataframe tbody tr th:only-of-type {\n",
       "        vertical-align: middle;\n",
       "    }\n",
       "\n",
       "    .dataframe tbody tr th {\n",
       "        vertical-align: top;\n",
       "    }\n",
       "\n",
       "    .dataframe thead th {\n",
       "        text-align: right;\n",
       "    }\n",
       "</style>\n",
       "<table border=\"1\" class=\"dataframe\">\n",
       "  <thead>\n",
       "    <tr style=\"text-align: right;\">\n",
       "      <th></th>\n",
       "      <th>serverId</th>\n",
       "      <th>characterId</th>\n",
       "      <th>characterName</th>\n",
       "      <th>jobGrowName</th>\n",
       "      <th>fame</th>\n",
       "    </tr>\n",
       "  </thead>\n",
       "  <tbody>\n",
       "    <tr>\n",
       "      <th>0</th>\n",
       "      <td>prey</td>\n",
       "      <td>d0b844d79ea6e490f6a26b1f62070a24</td>\n",
       "      <td>사레네</td>\n",
       "      <td>眞 마도학자</td>\n",
       "      <td>41867</td>\n",
       "    </tr>\n",
       "  </tbody>\n",
       "</table>\n",
       "</div>"
      ],
      "text/plain": [
       "  serverId                       characterId characterName jobGrowName   fame\n",
       "0     prey  d0b844d79ea6e490f6a26b1f62070a24           사레네      眞 마도학자  41867"
      ]
     },
     "execution_count": 55,
     "metadata": {},
     "output_type": "execute_result"
    }
   ],
   "source": [
    "columns = ['serverId', 'characterId','characterName', 'jobGrowName', 'fame']\n",
    "df_id = df[columns]\n",
    "df_id.set_index(\"characterId\")\n",
    "df_id"
   ]
  },
  {
   "cell_type": "code",
   "execution_count": 28,
   "metadata": {},
   "outputs": [],
   "source": [
    "requestData = requests.get(f'https://api.neople.co.kr/df/servers/{svname}/characters?characterName={urname_url}&apikey={api_key}')\n",
    "jsonData = requestData.json()\n",
    "api_result = pd.DataFrame(jsonData['rows'])"
   ]
  },
  {
   "cell_type": "code",
   "execution_count": 29,
   "metadata": {},
   "outputs": [
    {
     "data": {
      "text/html": [
       "<div>\n",
       "<style scoped>\n",
       "    .dataframe tbody tr th:only-of-type {\n",
       "        vertical-align: middle;\n",
       "    }\n",
       "\n",
       "    .dataframe tbody tr th {\n",
       "        vertical-align: top;\n",
       "    }\n",
       "\n",
       "    .dataframe thead th {\n",
       "        text-align: right;\n",
       "    }\n",
       "</style>\n",
       "<table border=\"1\" class=\"dataframe\">\n",
       "  <thead>\n",
       "    <tr style=\"text-align: right;\">\n",
       "      <th></th>\n",
       "      <th>serverId</th>\n",
       "      <th>characterId</th>\n",
       "      <th>characterName</th>\n",
       "      <th>level</th>\n",
       "      <th>jobId</th>\n",
       "      <th>jobGrowId</th>\n",
       "      <th>jobName</th>\n",
       "      <th>jobGrowName</th>\n",
       "      <th>fame</th>\n",
       "    </tr>\n",
       "  </thead>\n",
       "  <tbody>\n",
       "    <tr>\n",
       "      <th>0</th>\n",
       "      <td>prey</td>\n",
       "      <td>d0b844d79ea6e490f6a26b1f62070a24</td>\n",
       "      <td>사레네</td>\n",
       "      <td>115</td>\n",
       "      <td>3909d0b188e9c95311399f776e331da5</td>\n",
       "      <td>c9b492038ee3ca8d27d7004cf58d59f3</td>\n",
       "      <td>마법사(여)</td>\n",
       "      <td>眞 마도학자</td>\n",
       "      <td>41867</td>\n",
       "    </tr>\n",
       "  </tbody>\n",
       "</table>\n",
       "</div>"
      ],
      "text/plain": [
       "  serverId                       characterId characterName  level  \\\n",
       "0     prey  d0b844d79ea6e490f6a26b1f62070a24           사레네    115   \n",
       "\n",
       "                              jobId                         jobGrowId jobName  \\\n",
       "0  3909d0b188e9c95311399f776e331da5  c9b492038ee3ca8d27d7004cf58d59f3  마법사(여)   \n",
       "\n",
       "  jobGrowName   fame  \n",
       "0      眞 마도학자  41867  "
      ]
     },
     "execution_count": 29,
     "metadata": {},
     "output_type": "execute_result"
    }
   ],
   "source": [
    "api_result"
   ]
  },
  {
   "cell_type": "code",
   "execution_count": null,
   "metadata": {},
   "outputs": [],
   "source": []
  }
 ],
 "metadata": {
  "kernelspec": {
   "display_name": "base",
   "language": "python",
   "name": "python3"
  },
  "language_info": {
   "codemirror_mode": {
    "name": "ipython",
    "version": 3
   },
   "file_extension": ".py",
   "mimetype": "text/x-python",
   "name": "python",
   "nbconvert_exporter": "python",
   "pygments_lexer": "ipython3",
   "version": "3.12.7"
  }
 },
 "nbformat": 4,
 "nbformat_minor": 2
}
