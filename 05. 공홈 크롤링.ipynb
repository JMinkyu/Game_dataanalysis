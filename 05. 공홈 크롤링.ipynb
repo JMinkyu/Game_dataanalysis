{
 "cells": [
  {
   "cell_type": "code",
   "execution_count": 2,
   "metadata": {},
   "outputs": [],
   "source": [
    "import requests\n",
    "import pandas as pd\n",
    "from bs4 import BeautifulSoup\n",
    "import datetime as dt\n",
    "import time"
   ]
  },
  {
   "cell_type": "code",
   "execution_count": 8,
   "metadata": {},
   "outputs": [
    {
     "data": {
      "text/html": [
       "<div>\n",
       "<style scoped>\n",
       "    .dataframe tbody tr th:only-of-type {\n",
       "        vertical-align: middle;\n",
       "    }\n",
       "\n",
       "    .dataframe tbody tr th {\n",
       "        vertical-align: top;\n",
       "    }\n",
       "\n",
       "    .dataframe thead th {\n",
       "        text-align: right;\n",
       "    }\n",
       "</style>\n",
       "<table border=\"1\" class=\"dataframe\">\n",
       "  <thead>\n",
       "    <tr style=\"text-align: right;\">\n",
       "      <th></th>\n",
       "      <th>time</th>\n",
       "      <th>category</th>\n",
       "      <th>nickname</th>\n",
       "      <th>title</th>\n",
       "    </tr>\n",
       "  </thead>\n",
       "  <tbody>\n",
       "    <tr>\n",
       "      <th>0</th>\n",
       "      <td>2025-02-06</td>\n",
       "      <td>공지</td>\n",
       "      <td>던전앤파이터</td>\n",
       "      <td>[[이벤트], 2월, 묻고답하기, 이벤트, 안내, (1월, 답변왕, 발표), (3)]</td>\n",
       "    </tr>\n",
       "    <tr>\n",
       "      <th>1</th>\n",
       "      <td>2025-02-06</td>\n",
       "      <td>공지</td>\n",
       "      <td>던전앤파이터</td>\n",
       "      <td>[[이벤트], [베누스], 레기온, 공략, 이벤트, (2/6, ~, 2/20)]</td>\n",
       "    </tr>\n",
       "    <tr>\n",
       "      <th>2</th>\n",
       "      <td>2025-02-06</td>\n",
       "      <td>공지</td>\n",
       "      <td>던전앤파이터</td>\n",
       "      <td>[[당첨자, 발표], [중천, 던전], 공략, /, 정보, 공유, 이벤트, 수상자,...</td>\n",
       "    </tr>\n",
       "    <tr>\n",
       "      <th>3</th>\n",
       "      <td>2025-02-06</td>\n",
       "      <td>공지</td>\n",
       "      <td>던전앤파이터</td>\n",
       "      <td>[[당첨자, 발표], [중천, 정보(시스템,장비,캐릭터,이벤트, 등)], 공유, 이...</td>\n",
       "    </tr>\n",
       "    <tr>\n",
       "      <th>4</th>\n",
       "      <td>2025-01-16</td>\n",
       "      <td>공지</td>\n",
       "      <td>던전앤파이터</td>\n",
       "      <td>[장비, /, 플레이, /, 뉴비, 정보, 모음, (156)]</td>\n",
       "    </tr>\n",
       "    <tr>\n",
       "      <th>...</th>\n",
       "      <td>...</td>\n",
       "      <td>...</td>\n",
       "      <td>...</td>\n",
       "      <td>...</td>\n",
       "    </tr>\n",
       "    <tr>\n",
       "      <th>535</th>\n",
       "      <td>2025-02-05</td>\n",
       "      <td>질문</td>\n",
       "      <td>ruke_09167001</td>\n",
       "      <td>[[웨펀마스터], 검신, 스킬, 세팅, (2)]</td>\n",
       "    </tr>\n",
       "    <tr>\n",
       "      <th>536</th>\n",
       "      <td>2025-02-05</td>\n",
       "      <td>질문</td>\n",
       "      <td>asdjf1</td>\n",
       "      <td>[[헌터], 호수, 보스가, 안나오는데, 어캐해야되요?, (2)]</td>\n",
       "    </tr>\n",
       "    <tr>\n",
       "      <th>537</th>\n",
       "      <td>2025-02-05</td>\n",
       "      <td>질문</td>\n",
       "      <td>븜븜븜끼얏호</td>\n",
       "      <td>[[공통], 던린이, 템(내실), 세팅, 추천, 부탁드립니다., (5)]</td>\n",
       "    </tr>\n",
       "    <tr>\n",
       "      <th>538</th>\n",
       "      <td>2025-02-05</td>\n",
       "      <td>질문</td>\n",
       "      <td>XellyE</td>\n",
       "      <td>[[공통], 일개신, 질문, (6)]</td>\n",
       "    </tr>\n",
       "    <tr>\n",
       "      <th>539</th>\n",
       "      <td>2025-02-05</td>\n",
       "      <td>질문</td>\n",
       "      <td>헌터샤샤</td>\n",
       "      <td>[[인챈트리스], 여법사, 직업, 추천좀요, (8)]</td>\n",
       "    </tr>\n",
       "  </tbody>\n",
       "</table>\n",
       "<p>540 rows × 4 columns</p>\n",
       "</div>"
      ],
      "text/plain": [
       "           time category       nickname  \\\n",
       "0    2025-02-06       공지         던전앤파이터   \n",
       "1    2025-02-06       공지         던전앤파이터   \n",
       "2    2025-02-06       공지         던전앤파이터   \n",
       "3    2025-02-06       공지         던전앤파이터   \n",
       "4    2025-01-16       공지         던전앤파이터   \n",
       "..          ...      ...            ...   \n",
       "535  2025-02-05       질문  ruke_09167001   \n",
       "536  2025-02-05       질문         asdjf1   \n",
       "537  2025-02-05       질문         븜븜븜끼얏호   \n",
       "538  2025-02-05       질문         XellyE   \n",
       "539  2025-02-05       질문           헌터샤샤   \n",
       "\n",
       "                                                 title  \n",
       "0      [[이벤트], 2월, 묻고답하기, 이벤트, 안내, (1월, 답변왕, 발표), (3)]  \n",
       "1         [[이벤트], [베누스], 레기온, 공략, 이벤트, (2/6, ~, 2/20)]  \n",
       "2    [[당첨자, 발표], [중천, 던전], 공략, /, 정보, 공유, 이벤트, 수상자,...  \n",
       "3    [[당첨자, 발표], [중천, 정보(시스템,장비,캐릭터,이벤트, 등)], 공유, 이...  \n",
       "4                   [장비, /, 플레이, /, 뉴비, 정보, 모음, (156)]  \n",
       "..                                                 ...  \n",
       "535                         [[웨펀마스터], 검신, 스킬, 세팅, (2)]  \n",
       "536               [[헌터], 호수, 보스가, 안나오는데, 어캐해야되요?, (2)]  \n",
       "537           [[공통], 던린이, 템(내실), 세팅, 추천, 부탁드립니다., (5)]  \n",
       "538                               [[공통], 일개신, 질문, (6)]  \n",
       "539                      [[인챈트리스], 여법사, 직업, 추천좀요, (8)]  \n",
       "\n",
       "[540 rows x 4 columns]"
      ]
     },
     "execution_count": 8,
     "metadata": {},
     "output_type": "execute_result"
    }
   ],
   "source": [
    "now_time = dt.datetime.now()\n",
    "\n",
    "max_page = 20\n",
    "\n",
    "category_lst = []\n",
    "nickname_lst = []\n",
    "title_lst = []\n",
    "time_lst = []\n",
    "\n",
    "for page in range(max_page) :\n",
    "    \n",
    "    url = f'https://df.nexon.com/community/dnfboard/list?page={page}'\n",
    "    headers = ({\n",
    "        'USER-Agent' : 'Mozilla/5.0 (Windows NT 10.0; Win64; x64) AppleWebKit/537.36 (KHTML, like Gecko) Chrome/132.0.0.0 Safari/537.36'\n",
    "    })\n",
    "    time.sleep(1)\n",
    "    response = requests.get(url, headers=headers)\n",
    "    soup = BeautifulSoup(response.content, 'html.parser')\n",
    "\n",
    "    for i in range(len(soup.select('article.board_list li.category'))) :\n",
    "        # 글 카테고리\n",
    "        category = soup.select('article.board_list li.category')[i].text\n",
    "        # 유저 닉네임\n",
    "        nickname = soup.select('article.board_list li.author')[i].text.strip()\n",
    "        # 글 제목|\n",
    "        title = soup.select('article.board_list li.title')[i].text.strip().split()\n",
    "        # 게시글 작성시간\n",
    "        title_time = soup.select('article.board_list li.date')[i].text\n",
    "        try :\n",
    "            title_time = dt.datetime.strptime(title_time, \"%M:%S\")\n",
    "            title_time = title_time.replace(year = now_time.year, month=now_time.month, day=now_time.day).strftime(\"%Y-%m-%d\")\n",
    "        except :\n",
    "            title_time = dt.datetime.strptime(title_time, \"%Y.%m.%d\").strftime(\"%Y-%m-%d\")\n",
    "        \n",
    "        category_lst.append(category)\n",
    "        nickname_lst.append(nickname)\n",
    "        title_lst.append(title)\n",
    "        time_lst.append(title_time)\n",
    "\n",
    "    home_df = pd.DataFrame({\n",
    "        'time' : time_lst,\n",
    "        'category' : category_lst,\n",
    "        'nickname' : nickname_lst,\n",
    "        'title' : title_lst\n",
    "    })\n",
    "home_df\n"
   ]
  },
  {
   "cell_type": "code",
   "execution_count": 99,
   "metadata": {},
   "outputs": [
    {
     "name": "stdout",
     "output_type": "stream",
     "text": [
      "1900-01-01 00:13:00\n",
      "2025-02-06 00:13:00\n"
     ]
    }
   ],
   "source": [
    "time = soup.select('article.board_list li.date')[0].text\n",
    "time = dt.datetime.strptime(time, \"%M:%S\")\n",
    "now_time = dt.datetime.now()\n",
    "print(time)\n",
    "if time.year == 1900 :\n",
    "    time = time.replace(year = now_time.year, month=now_time.month, day=now_time.day)\n",
    "print(time)"
   ]
  },
  {
   "cell_type": "code",
   "execution_count": 5,
   "metadata": {},
   "outputs": [
    {
     "data": {
      "text/plain": [
       "datetime.datetime(1900, 1, 1, 0, 13)"
      ]
     },
     "execution_count": 5,
     "metadata": {},
     "output_type": "execute_result"
    }
   ],
   "source": [
    "title_time.strptime()"
   ]
  },
  {
   "cell_type": "code",
   "execution_count": null,
   "metadata": {},
   "outputs": [],
   "source": []
  },
  {
   "cell_type": "code",
   "execution_count": 98,
   "metadata": {},
   "outputs": [
    {
     "data": {
      "text/plain": [
       "datetime.datetime(2025, 2, 6, 0, 13)"
      ]
     },
     "execution_count": 98,
     "metadata": {},
     "output_type": "execute_result"
    }
   ],
   "source": [
    "time.replace(year = now_time.year, month=now_time.month, day=now_time.day)"
   ]
  },
  {
   "cell_type": "code",
   "execution_count": 94,
   "metadata": {},
   "outputs": [
    {
     "ename": "NameError",
     "evalue": "name 'self' is not defined",
     "output_type": "error",
     "traceback": [
      "\u001b[1;31m---------------------------------------------------------------------------\u001b[0m",
      "\u001b[1;31mNameError\u001b[0m                                 Traceback (most recent call last)",
      "Cell \u001b[1;32mIn[94], line 1\u001b[0m\n\u001b[1;32m----> 1\u001b[0m \u001b[38;5;28mself\u001b[39m\u001b[38;5;241m.\u001b[39myear\n",
      "\u001b[1;31mNameError\u001b[0m: name 'self' is not defined"
     ]
    }
   ],
   "source": [
    "self.year"
   ]
  },
  {
   "cell_type": "code",
   "execution_count": null,
   "metadata": {},
   "outputs": [],
   "source": []
  }
 ],
 "metadata": {
  "kernelspec": {
   "display_name": "base",
   "language": "python",
   "name": "python3"
  },
  "language_info": {
   "codemirror_mode": {
    "name": "ipython",
    "version": 3
   },
   "file_extension": ".py",
   "mimetype": "text/x-python",
   "name": "python",
   "nbconvert_exporter": "python",
   "pygments_lexer": "ipython3",
   "version": "3.12.7"
  }
 },
 "nbformat": 4,
 "nbformat_minor": 2
}
